{
 "cells": [
  {
   "cell_type": "code",
   "execution_count": 1,
   "id": "ee463bf9",
   "metadata": {
    "scrolled": true
   },
   "outputs": [
    {
     "name": "stderr",
     "output_type": "stream",
     "text": [
      "\u001b[32m\u001b[1m   Resolving\u001b[22m\u001b[39m package versions...\n",
      "\u001b[32m\u001b[1m  No Changes\u001b[22m\u001b[39m to `~/.julia/environments/v1.9/Project.toml`\n",
      "\u001b[32m\u001b[1m  No Changes\u001b[22m\u001b[39m to `~/.julia/environments/v1.9/Manifest.toml`\n",
      "\u001b[32m\u001b[1mPrecompiling\u001b[22m\u001b[39m project...\n",
      "\u001b[32m  ✓ \u001b[39m\u001b[90mIniFile\u001b[39m\n",
      "\u001b[32m  ✓ \u001b[39m\u001b[90mDelimitedFiles\u001b[39m\n",
      "\u001b[32m  ✓ \u001b[39m\u001b[90mLaTeXStrings\u001b[39m\n",
      "\u001b[32m  ✓ \u001b[39m\u001b[90mFormatting\u001b[39m\n",
      "\u001b[32m  ✓ \u001b[39m\u001b[90mGrisu\u001b[39m\n",
      "\u001b[32m  ✓ \u001b[39m\u001b[90mXorg_libXdmcp_jll\u001b[39m\n",
      "\u001b[32m  ✓ \u001b[39m\u001b[90mXorg_xtrans_jll\u001b[39m\n",
      "\u001b[32m  ✓ \u001b[39m\u001b[90mXorg_libXau_jll\u001b[39m\n",
      "\u001b[32m  ✓ \u001b[39m\u001b[90mLibmount_jll\u001b[39m\n",
      "\u001b[32m  ✓ \u001b[39m\u001b[90mLibgpg_error_jll\u001b[39m\n",
      "\u001b[32m  ✓ \u001b[39m\u001b[90mXorg_libpthread_stubs_jll\u001b[39m\n",
      "\u001b[32m  ✓ \u001b[39m\u001b[90mShowoff\u001b[39m\n",
      "\u001b[32m  ✓ \u001b[39m\u001b[90mContour\u001b[39m\n",
      "\u001b[32m  ✓ \u001b[39m\u001b[90mGlib_jll\u001b[39m\n",
      "\u001b[32m  ✓ \u001b[39m\u001b[90mMacroTools\u001b[39m\n",
      "\u001b[32m  ✓ \u001b[39m\u001b[90mLibgcrypt_jll\u001b[39m\n",
      "\u001b[32m  ✓ \u001b[39m\u001b[90mXSLT_jll\u001b[39m\n",
      "\u001b[32m  ✓ \u001b[39m\u001b[90mHTTP\u001b[39m\n",
      "\u001b[32m  ✓ \u001b[39m\u001b[90mXorg_libxcb_jll\u001b[39m\n",
      "\u001b[32m  ✓ \u001b[39m\u001b[90mXorg_libX11_jll\u001b[39m\n",
      "\u001b[32m  ✓ \u001b[39m\u001b[90mLatexify\u001b[39m\n",
      "\u001b[32m  ✓ \u001b[39m\u001b[90mXorg_libXext_jll\u001b[39m\n",
      "\u001b[32m  ✓ \u001b[39m\u001b[90mXorg_libXrender_jll\u001b[39m\n",
      "\u001b[32m  ✓ \u001b[39m\u001b[90mGR\u001b[39m\n",
      "\u001b[32m  ✓ \u001b[39m\u001b[90mCairo_jll\u001b[39m\n",
      "\u001b[32m  ✓ \u001b[39m\u001b[90mHarfBuzz_jll\u001b[39m\n",
      "\u001b[32m  ✓ \u001b[39m\u001b[90mlibass_jll\u001b[39m\n",
      "\u001b[32m  ✓ \u001b[39m\u001b[90mFFMPEG_jll\u001b[39m\n",
      "\u001b[32m  ✓ \u001b[39m\u001b[90mFFMPEG\u001b[39m\n",
      "\u001b[32m  ✓ \u001b[39mPlots\n",
      "  30 dependencies successfully precompiled in 28 seconds. 100 already precompiled.\n",
      "\u001b[32m\u001b[1m   Resolving\u001b[22m\u001b[39m package versions...\n",
      "\u001b[32m\u001b[1m  No Changes\u001b[22m\u001b[39m to `~/.julia/environments/v1.9/Project.toml`\n",
      "\u001b[32m\u001b[1m  No Changes\u001b[22m\u001b[39m to `~/.julia/environments/v1.9/Manifest.toml`\n"
     ]
    }
   ],
   "source": [
    "import Pkg\n",
    "Pkg.add(\"MAT\")\n",
    "Pkg.add(\"Plots\")\n"
   ]
  },
  {
   "cell_type": "code",
   "execution_count": 22,
   "id": "a1ab2349",
   "metadata": {},
   "outputs": [
    {
     "name": "stderr",
     "output_type": "stream",
     "text": [
      "\u001b[32m\u001b[1m   Resolving\u001b[22m\u001b[39m package versions...\n",
      "\u001b[32m\u001b[1m    Updating\u001b[22m\u001b[39m `~/.julia/environments/v1.9/Project.toml`\n",
      "\u001b[33m⌅\u001b[39m \u001b[90m[28b8d3ca] \u001b[39m\u001b[92m+ GR v0.52.0\u001b[39m\n",
      "\u001b[32m\u001b[1m  No Changes\u001b[22m\u001b[39m to `~/.julia/environments/v1.9/Manifest.toml`\n"
     ]
    }
   ],
   "source": [
    "import Pkg\n",
    "Pkg.add(\"GR\")\n"
   ]
  },
  {
   "cell_type": "code",
   "execution_count": 21,
   "id": "efbb0106",
   "metadata": {
    "scrolled": true
   },
   "outputs": [
    {
     "ename": "LoadError",
     "evalue": "could not load library \"libGR.so\"\ndlopen(libGR.so.dylib, 0x0001): tried: 'libGR.so.dylib' (no such file), '/System/Volumes/Preboot/Cryptexes/OSlibGR.so.dylib' (no such file), '/Volumes/Julia-1.9.3/Julia-1.9.app/Contents/Resources/julia/lib/julia/libGR.so.dylib' (no such file), '/Volumes/Julia-1.9.3/Julia-1.9.app/Contents/Resources/julia/lib/julia/../libGR.so.dylib' (no such file), '/Volumes/Julia-1.9.3/Julia-1.9.app/Contents/Resources/julia/lib/libGR.so.dylib' (no such file), '/usr/lib/libGR.so.dylib' (no such file, not in dyld cache), 'libGR.so.dylib' (no such file), '/usr/local/lib/libGR.so.dylib' (no such file), '/usr/lib/libGR.so.dylib' (no such file, not in dyld cache)",
     "output_type": "error",
     "traceback": [
      "could not load library \"libGR.so\"\ndlopen(libGR.so.dylib, 0x0001): tried: 'libGR.so.dylib' (no such file), '/System/Volumes/Preboot/Cryptexes/OSlibGR.so.dylib' (no such file), '/Volumes/Julia-1.9.3/Julia-1.9.app/Contents/Resources/julia/lib/julia/libGR.so.dylib' (no such file), '/Volumes/Julia-1.9.3/Julia-1.9.app/Contents/Resources/julia/lib/julia/../libGR.so.dylib' (no such file), '/Volumes/Julia-1.9.3/Julia-1.9.app/Contents/Resources/julia/lib/libGR.so.dylib' (no such file), '/usr/lib/libGR.so.dylib' (no such file, not in dyld cache), 'libGR.so.dylib' (no such file), '/usr/local/lib/libGR.so.dylib' (no such file), '/usr/lib/libGR.so.dylib' (no such file, not in dyld cache)",
      "",
      "Stacktrace:",
      "  [1] setcharheight(height::Float64)",
      "    @ GR ~/.julia/packages/GR/BwGt2/src/GR.jl:1417",
      "  [2] gr_set_font(f::Plots.Font, s::Plots.Subplot{Plots.GRBackend}; halign::Symbol, valign::Symbol, color::RGBA{Float64}, rotation::Float64)",
      "    @ Plots ~/.julia/packages/Plots/iYDwd/src/backends/gr.jl:390",
      "  [3] gr_set_font(f::Plots.Font, s::Plots.Subplot{Plots.GRBackend})",
      "    @ Plots ~/.julia/packages/Plots/iYDwd/src/backends/gr.jl:387",
      "  [4] _update_min_padding!(sp::Plots.Subplot{Plots.GRBackend})",
      "    @ Plots ~/.julia/packages/Plots/iYDwd/src/backends/gr.jl:755",
      "  [5] iterate",
      "    @ ./generator.jl:47 [inlined]",
      "  [6] _collect(c::Matrix{AbstractLayout}, itr::Base.Generator{Matrix{AbstractLayout}, typeof(Plots._update_min_padding!)}, #unused#::Base.EltypeUnknown, isz::Base.HasShape{2})",
      "    @ Base ./array.jl:802",
      "  [7] collect_similar",
      "    @ ./array.jl:711 [inlined]",
      "  [8] map",
      "    @ ./abstractarray.jl:3263 [inlined]",
      "  [9] _update_min_padding!(layout::Plots.GridLayout)",
      "    @ Plots ~/.julia/packages/Plots/iYDwd/src/layouts.jl:282",
      " [10] prepare_output(plt::Plots.Plot{Plots.GRBackend})",
      "    @ Plots ~/.julia/packages/Plots/iYDwd/src/plot.jl:189",
      " [11] show(io::IOBuffer, m::MIME{Symbol(\"image/svg+xml\")}, plt::Plots.Plot{Plots.GRBackend})",
      "    @ Plots ~/.julia/packages/Plots/iYDwd/src/output.jl:214",
      " [12] sprint(::Function, ::MIME{Symbol(\"image/svg+xml\")}, ::Vararg{Any}; context::Nothing, sizehint::Int64)",
      "    @ Base ./strings/io.jl:114",
      " [13] sprint",
      "    @ ./strings/io.jl:107 [inlined]",
      " [14] _ijulia_display_dict(plt::Plots.Plot{Plots.GRBackend})",
      "    @ Plots ~/.julia/packages/Plots/iYDwd/src/ijulia.jl:53",
      " [15] display_dict",
      "    @ ~/.julia/packages/Plots/iYDwd/src/init.jl:77 [inlined]",
      " [16] display(d::IJulia.InlineDisplay, x::Plots.Plot{Plots.GRBackend})",
      "    @ IJulia ~/.julia/packages/IJulia/Vo51o/src/inline.jl:98",
      " [17] display(x::Any)",
      "    @ Base.Multimedia ./multimedia.jl:340",
      " [18] top-level scope",
      "    @ In[21]:25"
     ]
    }
   ],
   "source": [
    "using MAT\n",
    "using Plots\n",
    "\n",
    "# Load the .mat file\n",
    "mat_data = matread(\"./../data/qpcr.mat\")\n",
    "\n",
    "# Access the data struct\n",
    "data = mat_data[\"data\"]\n",
    "\n",
    "# Extract time data (assuming it's stored in data.xdata)\n",
    "time = data[\"xdata\"]\n",
    "\n",
    "# Extract the 10 time series (assuming they are stored in data.ydata)\n",
    "time_series = data[\"ydata\"]\n",
    "\n",
    "# Create subplots in a (5,2) grid\n",
    "plot_arr = plot(layout = (5, 2), size = (800, 600))\n",
    "\n",
    "# Plot each time series on a logarithmic scale\n",
    "for i in 1:10\n",
    "    plot!(plot_arr[i], time, time_series[:, i], seriestype = :scatter, title = \"Series $i\", xlabel = \"Time\", ylabel = \"Value\")\n",
    "end\n",
    "\n",
    "# Show the plots\n",
    "display(plot_arr)\n"
   ]
  },
  {
   "cell_type": "code",
   "execution_count": 20,
   "id": "e8dc7806",
   "metadata": {},
   "outputs": [
    {
     "name": "stderr",
     "output_type": "stream",
     "text": [
      "\u001b[32m\u001b[1m    Updating\u001b[22m\u001b[39m `~/.julia/environments/v1.9/Project.toml`\n",
      "  \u001b[90m[28b8d3ca] \u001b[39m\u001b[91m- GR v0.52.0\u001b[39m\n",
      "\u001b[32m\u001b[1m  No Changes\u001b[22m\u001b[39m to `~/.julia/environments/v1.9/Manifest.toml`\n",
      "\u001b[36m\u001b[1m[ \u001b[22m\u001b[39m\u001b[36m\u001b[1mInfo: \u001b[22m\u001b[39mWe haven't cleaned this depot up for a bit, running Pkg.gc()...\n",
      "\u001b[32m\u001b[1m      Active\u001b[22m\u001b[39m manifest files: 1 found\n",
      "\u001b[32m\u001b[1m      Active\u001b[22m\u001b[39m artifact files: 50 found\n",
      "\u001b[32m\u001b[1m      Active\u001b[22m\u001b[39m scratchspaces: 3 found\n",
      "\u001b[32m\u001b[1m     Deleted\u001b[22m\u001b[39m no artifacts, repos, packages or scratchspaces\n"
     ]
    }
   ],
   "source": [
    "Pkg.rm(\"GR\")"
   ]
  },
  {
   "cell_type": "code",
   "execution_count": 23,
   "id": "1fd87c48",
   "metadata": {},
   "outputs": [
    {
     "ename": "ErrorException",
     "evalue": "could not load library \"libGR.so\"\ndlopen(libGR.so.dylib, 0x0001): tried: 'libGR.so.dylib' (no such file), '/System/Volumes/Preboot/Cryptexes/OSlibGR.so.dylib' (no such file), '/Volumes/Julia-1.9.3/Julia-1.9.app/Contents/Resources/julia/lib/julia/libGR.so.dylib' (no such file), '/Volumes/Julia-1.9.3/Julia-1.9.app/Contents/Resources/julia/lib/julia/../libGR.so.dylib' (no such file), '/Volumes/Julia-1.9.3/Julia-1.9.app/Contents/Resources/julia/lib/libGR.so.dylib' (no such file), '/usr/lib/libGR.so.dylib' (no such file, not in dyld cache), 'libGR.so.dylib' (no such file), '/usr/local/lib/libGR.so.dylib' (no such file), '/usr/lib/libGR.so.dylib' (no such file, not in dyld cache)",
     "output_type": "error",
     "traceback": [
      "could not load library \"libGR.so\"\ndlopen(libGR.so.dylib, 0x0001): tried: 'libGR.so.dylib' (no such file), '/System/Volumes/Preboot/Cryptexes/OSlibGR.so.dylib' (no such file), '/Volumes/Julia-1.9.3/Julia-1.9.app/Contents/Resources/julia/lib/julia/libGR.so.dylib' (no such file), '/Volumes/Julia-1.9.3/Julia-1.9.app/Contents/Resources/julia/lib/julia/../libGR.so.dylib' (no such file), '/Volumes/Julia-1.9.3/Julia-1.9.app/Contents/Resources/julia/lib/libGR.so.dylib' (no such file), '/usr/lib/libGR.so.dylib' (no such file, not in dyld cache), 'libGR.so.dylib' (no such file), '/usr/local/lib/libGR.so.dylib' (no such file), '/usr/lib/libGR.so.dylib' (no such file, not in dyld cache)",
      "",
      "Stacktrace:",
      "  [1] setcharheight(height::Float64)",
      "    @ GR ~/.julia/packages/GR/BwGt2/src/GR.jl:1417",
      "  [2] gr_set_font(f::Plots.Font, s::Plots.Subplot{Plots.GRBackend}; halign::Symbol, valign::Symbol, color::RGB{FixedPointNumbers.N0f8}, rotation::Int64)",
      "    @ Plots ~/.julia/packages/Plots/iYDwd/src/backends/gr.jl:390",
      "  [3] gr_set_tickfont(sp::Plots.Subplot{Plots.GRBackend}, letter::Symbol)",
      "    @ Plots ~/.julia/packages/Plots/iYDwd/src/backends/gr.jl:661",
      "  [4] _update_min_padding!(sp::Plots.Subplot{Plots.GRBackend})",
      "    @ Plots ~/.julia/packages/Plots/iYDwd/src/backends/gr.jl:849",
      "  [5] iterate",
      "    @ ./generator.jl:47 [inlined]",
      "  [6] _collect(c::Matrix{AbstractLayout}, itr::Base.Generator{Matrix{AbstractLayout}, typeof(Plots._update_min_padding!)}, #unused#::Base.EltypeUnknown, isz::Base.HasShape{2})",
      "    @ Base ./array.jl:802",
      "  [7] collect_similar",
      "    @ ./array.jl:711 [inlined]",
      "  [8] map",
      "    @ ./abstractarray.jl:3263 [inlined]",
      "  [9] _update_min_padding!(layout::Plots.GridLayout)",
      "    @ Plots ~/.julia/packages/Plots/iYDwd/src/layouts.jl:282",
      " [10] prepare_output(plt::Plots.Plot{Plots.GRBackend})",
      "    @ Plots ~/.julia/packages/Plots/iYDwd/src/plot.jl:189",
      " [11] show(io::IOBuffer, m::MIME{Symbol(\"image/svg+xml\")}, plt::Plots.Plot{Plots.GRBackend})",
      "    @ Plots ~/.julia/packages/Plots/iYDwd/src/output.jl:214",
      " [12] sprint(::Function, ::MIME{Symbol(\"image/svg+xml\")}, ::Vararg{Any}; context::Nothing, sizehint::Int64)",
      "    @ Base ./strings/io.jl:114",
      " [13] sprint",
      "    @ ./strings/io.jl:107 [inlined]",
      " [14] _ijulia_display_dict(plt::Plots.Plot{Plots.GRBackend})",
      "    @ Plots ~/.julia/packages/Plots/iYDwd/src/ijulia.jl:53",
      " [15] display_dict(plt::Plots.Plot{Plots.GRBackend})",
      "    @ Plots ~/.julia/packages/Plots/iYDwd/src/init.jl:77",
      " [16] #invokelatest#2",
      "    @ ./essentials.jl:819 [inlined]",
      " [17] invokelatest",
      "    @ ./essentials.jl:816 [inlined]",
      " [18] execute_request(socket::ZMQ.Socket, msg::IJulia.Msg)",
      "    @ IJulia ~/.julia/packages/IJulia/Vo51o/src/execute_request.jl:112",
      " [19] #invokelatest#2",
      "    @ ./essentials.jl:819 [inlined]",
      " [20] invokelatest",
      "    @ ./essentials.jl:816 [inlined]",
      " [21] eventloop(socket::ZMQ.Socket)",
      "    @ IJulia ~/.julia/packages/IJulia/Vo51o/src/eventloop.jl:8",
      " [22] (::IJulia.var\"#15#18\")()",
      "    @ IJulia ./task.jl:514"
     ]
    }
   ],
   "source": [
    "x = range(0, 10, length=100)\n",
    "y = sin.(x)\n",
    "plot(x, y)\n"
   ]
  },
  {
   "cell_type": "code",
   "execution_count": null,
   "id": "049fb822",
   "metadata": {},
   "outputs": [],
   "source": []
  }
 ],
 "metadata": {
  "kernelspec": {
   "display_name": "Julia 1.9.3",
   "language": "julia",
   "name": "julia-1.9"
  },
  "language_info": {
   "file_extension": ".jl",
   "mimetype": "application/julia",
   "name": "julia",
   "version": "1.9.3"
  }
 },
 "nbformat": 4,
 "nbformat_minor": 5
}
