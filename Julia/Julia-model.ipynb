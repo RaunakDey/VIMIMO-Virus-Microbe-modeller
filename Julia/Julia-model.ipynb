{
 "cells": [
  {
   "cell_type": "code",
   "execution_count": 3,
   "id": "6b113c0f",
   "metadata": {},
   "outputs": [
    {
     "ename": "ErrorException",
     "evalue": "could not load library \"libGR.so\"\ndlopen(libGR.so.dylib, 0x0001): tried: 'libGR.so.dylib' (no such file), '/System/Volumes/Preboot/Cryptexes/OSlibGR.so.dylib' (no such file), '/Volumes/Julia-1.9.3/Julia-1.9.app/Contents/Resources/julia/lib/julia/libGR.so.dylib' (no such file), '/Volumes/Julia-1.9.3/Julia-1.9.app/Contents/Resources/julia/lib/julia/../libGR.so.dylib' (no such file), '/Volumes/Julia-1.9.3/Julia-1.9.app/Contents/Resources/julia/lib/libGR.so.dylib' (no such file), '/usr/lib/libGR.so.dylib' (no such file, not in dyld cache), 'libGR.so.dylib' (no such file), '/usr/local/lib/libGR.so.dylib' (no such file), '/usr/lib/libGR.so.dylib' (no such file, not in dyld cache)",
     "output_type": "error",
     "traceback": [
      "could not load library \"libGR.so\"\ndlopen(libGR.so.dylib, 0x0001): tried: 'libGR.so.dylib' (no such file), '/System/Volumes/Preboot/Cryptexes/OSlibGR.so.dylib' (no such file), '/Volumes/Julia-1.9.3/Julia-1.9.app/Contents/Resources/julia/lib/julia/libGR.so.dylib' (no such file), '/Volumes/Julia-1.9.3/Julia-1.9.app/Contents/Resources/julia/lib/julia/../libGR.so.dylib' (no such file), '/Volumes/Julia-1.9.3/Julia-1.9.app/Contents/Resources/julia/lib/libGR.so.dylib' (no such file), '/usr/lib/libGR.so.dylib' (no such file, not in dyld cache), 'libGR.so.dylib' (no such file), '/usr/local/lib/libGR.so.dylib' (no such file), '/usr/lib/libGR.so.dylib' (no such file, not in dyld cache)",
      "",
      "Stacktrace:",
      "  [1] setcharheight(height::Float64)",
      "    @ GR ~/.julia/packages/GR/BwGt2/src/GR.jl:1417",
      "  [2] gr_set_font(f::Plots.Font, s::Plots.Subplot{Plots.GRBackend}; halign::Symbol, valign::Symbol, color::RGB{FixedPointNumbers.N0f8}, rotation::Int64)",
      "    @ Plots ~/.julia/packages/Plots/iYDwd/src/backends/gr.jl:390",
      "  [3] gr_set_tickfont(sp::Plots.Subplot{Plots.GRBackend}, letter::Symbol)",
      "    @ Plots ~/.julia/packages/Plots/iYDwd/src/backends/gr.jl:661",
      "  [4] _update_min_padding!(sp::Plots.Subplot{Plots.GRBackend})",
      "    @ Plots ~/.julia/packages/Plots/iYDwd/src/backends/gr.jl:849",
      "  [5] iterate",
      "    @ ./generator.jl:47 [inlined]",
      "  [6] _collect(c::Matrix{AbstractLayout}, itr::Base.Generator{Matrix{AbstractLayout}, typeof(Plots._update_min_padding!)}, #unused#::Base.EltypeUnknown, isz::Base.HasShape{2})",
      "    @ Base ./array.jl:802",
      "  [7] collect_similar",
      "    @ ./array.jl:711 [inlined]",
      "  [8] map",
      "    @ ./abstractarray.jl:3263 [inlined]",
      "  [9] _update_min_padding!(layout::Plots.GridLayout)",
      "    @ Plots ~/.julia/packages/Plots/iYDwd/src/layouts.jl:282",
      " [10] prepare_output(plt::Plots.Plot{Plots.GRBackend})",
      "    @ Plots ~/.julia/packages/Plots/iYDwd/src/plot.jl:189",
      " [11] show(io::IOBuffer, m::MIME{Symbol(\"image/svg+xml\")}, plt::Plots.Plot{Plots.GRBackend})",
      "    @ Plots ~/.julia/packages/Plots/iYDwd/src/output.jl:214",
      " [12] sprint(::Function, ::MIME{Symbol(\"image/svg+xml\")}, ::Vararg{Any}; context::Nothing, sizehint::Int64)",
      "    @ Base ./strings/io.jl:114",
      " [13] sprint",
      "    @ ./strings/io.jl:107 [inlined]",
      " [14] _ijulia_display_dict(plt::Plots.Plot{Plots.GRBackend})",
      "    @ Plots ~/.julia/packages/Plots/iYDwd/src/ijulia.jl:53",
      " [15] display_dict(plt::Plots.Plot{Plots.GRBackend})",
      "    @ Plots ~/.julia/packages/Plots/iYDwd/src/init.jl:77",
      " [16] #invokelatest#2",
      "    @ ./essentials.jl:819 [inlined]",
      " [17] invokelatest",
      "    @ ./essentials.jl:816 [inlined]",
      " [18] execute_request(socket::ZMQ.Socket, msg::IJulia.Msg)",
      "    @ IJulia ~/.julia/packages/IJulia/Vo51o/src/execute_request.jl:112",
      " [19] #invokelatest#2",
      "    @ ./essentials.jl:819 [inlined]",
      " [20] invokelatest",
      "    @ ./essentials.jl:816 [inlined]",
      " [21] eventloop(socket::ZMQ.Socket)",
      "    @ IJulia ~/.julia/packages/IJulia/Vo51o/src/eventloop.jl:8",
      " [22] (::IJulia.var\"#15#18\")()",
      "    @ IJulia ./task.jl:514"
     ]
    }
   ],
   "source": [
    "x = range(0, 10, length=100)\n",
    "y = sin.(x)\n",
    "plot(x, y)\n"
   ]
  },
  {
   "cell_type": "code",
   "execution_count": 2,
   "id": "d2a999df",
   "metadata": {},
   "outputs": [
    {
     "name": "stderr",
     "output_type": "stream",
     "text": [
      "\u001b[32m\u001b[1m   Resolving\u001b[22m\u001b[39m package versions...\n",
      "\u001b[32m\u001b[1m  No Changes\u001b[22m\u001b[39m to `~/.julia/environments/v1.9/Project.toml`\n",
      "\u001b[32m\u001b[1m  No Changes\u001b[22m\u001b[39m to `~/.julia/environments/v1.9/Manifest.toml`\n"
     ]
    }
   ],
   "source": [
    "import Pkg\n",
    "Pkg.add(\"Plots\")\n",
    "using Plots\n"
   ]
  },
  {
   "cell_type": "code",
   "execution_count": null,
   "id": "7fe85783",
   "metadata": {},
   "outputs": [],
   "source": []
  }
 ],
 "metadata": {
  "kernelspec": {
   "display_name": "Julia 1.9.3",
   "language": "julia",
   "name": "julia-1.9"
  },
  "language_info": {
   "file_extension": ".jl",
   "mimetype": "application/julia",
   "name": "julia",
   "version": "1.9.3"
  }
 },
 "nbformat": 4,
 "nbformat_minor": 5
}
